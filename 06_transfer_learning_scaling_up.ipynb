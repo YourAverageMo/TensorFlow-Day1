{
 "cells": [
  {
   "attachments": {},
   "cell_type": "markdown",
   "metadata": {},
   "source": [
    "# 06 transfer learning scaling up our previous model"
   ]
  },
  {
   "cell_type": "code",
   "execution_count": 16,
   "metadata": {},
   "outputs": [],
   "source": [
    "import zipfile\n",
    "import urllib.request\n",
    "import random\n",
    "import os\n",
    "import pathlib\n",
    "import datetime\n",
    "import numpy as np\n",
    "import pandas as pd\n",
    "\n",
    "from helper_functions import create_tensorboard_callback, plot_loss_curves, unzip_data, walk_through_dir, compare_historys, make_confusion_matrix\n",
    "\n",
    "import matplotlib.pylab as plt\n",
    "import matplotlib.image as mpimg\n",
    "\n",
    "import tensorflow as tf\n",
    "import tensorflow_hub as hub\n",
    "import keras\n",
    "from keras.preprocessing.image import ImageDataGenerator\n",
    "from keras import layers\n",
    "from keras.layers import preprocessing\n",
    "\n",
    "from sklearn.metrics import classification_report\n"
   ]
  },
  {
   "cell_type": "code",
   "execution_count": 3,
   "metadata": {},
   "outputs": [],
   "source": [
    "# downloading dataset\n",
    "\n",
    "url = \"https://storage.googleapis.com/ztm_tf_course/food_vision/101_food_classes_10_percent.zip\"\n",
    "filename = \"101_food_classes_10_percent.zip\"\n",
    "file = urllib.request.urlretrieve(url, filename)"
   ]
  },
  {
   "cell_type": "code",
   "execution_count": 4,
   "metadata": {},
   "outputs": [],
   "source": [
    "# unziping dataset\n",
    "\n",
    "with zipfile.ZipFile(\"./data/101_food_classes_10_percent.zip\") as zip_ref:\n",
    "    zip_ref.extractall()"
   ]
  },
  {
   "cell_type": "code",
   "execution_count": 5,
   "metadata": {},
   "outputs": [
    {
     "name": "stdout",
     "output_type": "stream",
     "text": [
      "There are 2 directories and 0 images in './data/101_food_classes_10_percent/'.\n",
      "There are 101 directories and 0 images in './data/101_food_classes_10_percent/test'.\n",
      "There are 0 directories and 250 images in './data/101_food_classes_10_percent/test/foie_gras'.\n",
      "There are 0 directories and 250 images in './data/101_food_classes_10_percent/test/club_sandwich'.\n",
      "There are 0 directories and 250 images in './data/101_food_classes_10_percent/test/cheese_plate'.\n",
      "There are 0 directories and 250 images in './data/101_food_classes_10_percent/test/cup_cakes'.\n",
      "There are 0 directories and 250 images in './data/101_food_classes_10_percent/test/garlic_bread'.\n",
      "There are 0 directories and 250 images in './data/101_food_classes_10_percent/test/gnocchi'.\n",
      "There are 0 directories and 250 images in './data/101_food_classes_10_percent/test/ice_cream'.\n",
      "There are 0 directories and 250 images in './data/101_food_classes_10_percent/test/samosa'.\n",
      "There are 0 directories and 250 images in './data/101_food_classes_10_percent/test/donuts'.\n",
      "There are 0 directories and 250 images in './data/101_food_classes_10_percent/test/tuna_tartare'.\n",
      "There are 0 directories and 250 images in './data/101_food_classes_10_percent/test/filet_mignon'.\n",
      "There are 0 directories and 250 images in './data/101_food_classes_10_percent/test/seaweed_salad'.\n",
      "There are 0 directories and 250 images in './data/101_food_classes_10_percent/test/french_toast'.\n",
      "There are 0 directories and 250 images in './data/101_food_classes_10_percent/test/chicken_curry'.\n",
      "There are 0 directories and 250 images in './data/101_food_classes_10_percent/test/shrimp_and_grits'.\n",
      "There are 0 directories and 250 images in './data/101_food_classes_10_percent/test/steak'.\n",
      "There are 0 directories and 250 images in './data/101_food_classes_10_percent/test/cheesecake'.\n",
      "There are 0 directories and 250 images in './data/101_food_classes_10_percent/test/red_velvet_cake'.\n",
      "There are 0 directories and 250 images in './data/101_food_classes_10_percent/test/waffles'.\n",
      "There are 0 directories and 250 images in './data/101_food_classes_10_percent/test/churros'.\n",
      "There are 0 directories and 250 images in './data/101_food_classes_10_percent/test/gyoza'.\n",
      "There are 0 directories and 250 images in './data/101_food_classes_10_percent/test/lobster_roll_sandwich'.\n",
      "There are 0 directories and 250 images in './data/101_food_classes_10_percent/test/huevos_rancheros'.\n",
      "There are 0 directories and 250 images in './data/101_food_classes_10_percent/test/breakfast_burrito'.\n",
      "There are 0 directories and 250 images in './data/101_food_classes_10_percent/test/grilled_cheese_sandwich'.\n",
      "There are 0 directories and 250 images in './data/101_food_classes_10_percent/test/spaghetti_bolognese'.\n",
      "There are 0 directories and 250 images in './data/101_food_classes_10_percent/test/falafel'.\n",
      "There are 0 directories and 250 images in './data/101_food_classes_10_percent/test/poutine'.\n",
      "There are 0 directories and 250 images in './data/101_food_classes_10_percent/test/greek_salad'.\n",
      "There are 0 directories and 250 images in './data/101_food_classes_10_percent/test/beef_tartare'.\n",
      "There are 0 directories and 250 images in './data/101_food_classes_10_percent/test/fried_calamari'.\n",
      "There are 0 directories and 250 images in './data/101_food_classes_10_percent/test/guacamole'.\n",
      "There are 0 directories and 250 images in './data/101_food_classes_10_percent/test/ravioli'.\n",
      "There are 0 directories and 250 images in './data/101_food_classes_10_percent/test/lobster_bisque'.\n",
      "There are 0 directories and 250 images in './data/101_food_classes_10_percent/test/beet_salad'.\n",
      "There are 0 directories and 250 images in './data/101_food_classes_10_percent/test/risotto'.\n",
      "There are 0 directories and 250 images in './data/101_food_classes_10_percent/test/crab_cakes'.\n",
      "There are 0 directories and 250 images in './data/101_food_classes_10_percent/test/strawberry_shortcake'.\n",
      "There are 0 directories and 250 images in './data/101_food_classes_10_percent/test/edamame'.\n",
      "There are 0 directories and 250 images in './data/101_food_classes_10_percent/test/ceviche'.\n",
      "There are 0 directories and 250 images in './data/101_food_classes_10_percent/test/hot_and_sour_soup'.\n",
      "There are 0 directories and 250 images in './data/101_food_classes_10_percent/test/spring_rolls'.\n",
      "There are 0 directories and 250 images in './data/101_food_classes_10_percent/test/sashimi'.\n",
      "There are 0 directories and 250 images in './data/101_food_classes_10_percent/test/paella'.\n",
      "There are 0 directories and 250 images in './data/101_food_classes_10_percent/test/clam_chowder'.\n",
      "There are 0 directories and 250 images in './data/101_food_classes_10_percent/test/miso_soup'.\n",
      "There are 0 directories and 250 images in './data/101_food_classes_10_percent/test/escargots'.\n",
      "There are 0 directories and 250 images in './data/101_food_classes_10_percent/test/hot_dog'.\n",
      "There are 0 directories and 250 images in './data/101_food_classes_10_percent/test/pulled_pork_sandwich'.\n",
      "There are 0 directories and 250 images in './data/101_food_classes_10_percent/test/bruschetta'.\n",
      "There are 0 directories and 250 images in './data/101_food_classes_10_percent/test/panna_cotta'.\n",
      "There are 0 directories and 250 images in './data/101_food_classes_10_percent/test/fish_and_chips'.\n",
      "There are 0 directories and 250 images in './data/101_food_classes_10_percent/test/pad_thai'.\n",
      "There are 0 directories and 250 images in './data/101_food_classes_10_percent/test/tiramisu'.\n",
      "There are 0 directories and 250 images in './data/101_food_classes_10_percent/test/takoyaki'.\n",
      "There are 0 directories and 250 images in './data/101_food_classes_10_percent/test/macarons'.\n",
      "There are 0 directories and 250 images in './data/101_food_classes_10_percent/test/apple_pie'.\n",
      "There are 0 directories and 250 images in './data/101_food_classes_10_percent/test/cannoli'.\n",
      "There are 0 directories and 250 images in './data/101_food_classes_10_percent/test/scallops'.\n",
      "There are 0 directories and 250 images in './data/101_food_classes_10_percent/test/frozen_yogurt'.\n",
      "There are 0 directories and 250 images in './data/101_food_classes_10_percent/test/chicken_quesadilla'.\n",
      "There are 0 directories and 250 images in './data/101_food_classes_10_percent/test/mussels'.\n",
      "There are 0 directories and 250 images in './data/101_food_classes_10_percent/test/beef_carpaccio'.\n",
      "There are 0 directories and 250 images in './data/101_food_classes_10_percent/test/eggs_benedict'.\n",
      "There are 0 directories and 250 images in './data/101_food_classes_10_percent/test/spaghetti_carbonara'.\n",
      "There are 0 directories and 250 images in './data/101_food_classes_10_percent/test/omelette'.\n",
      "There are 0 directories and 250 images in './data/101_food_classes_10_percent/test/sushi'.\n",
      "There are 0 directories and 250 images in './data/101_food_classes_10_percent/test/chocolate_mousse'.\n",
      "There are 0 directories and 250 images in './data/101_food_classes_10_percent/test/beignets'.\n",
      "There are 0 directories and 250 images in './data/101_food_classes_10_percent/test/bibimbap'.\n",
      "There are 0 directories and 250 images in './data/101_food_classes_10_percent/test/hummus'.\n",
      "There are 0 directories and 250 images in './data/101_food_classes_10_percent/test/pork_chop'.\n",
      "There are 0 directories and 250 images in './data/101_food_classes_10_percent/test/chicken_wings'.\n",
      "There are 0 directories and 250 images in './data/101_food_classes_10_percent/test/grilled_salmon'.\n",
      "There are 0 directories and 250 images in './data/101_food_classes_10_percent/test/chocolate_cake'.\n",
      "There are 0 directories and 250 images in './data/101_food_classes_10_percent/test/tacos'.\n",
      "There are 0 directories and 250 images in './data/101_food_classes_10_percent/test/hamburger'.\n",
      "There are 0 directories and 250 images in './data/101_food_classes_10_percent/test/baby_back_ribs'.\n",
      "There are 0 directories and 250 images in './data/101_food_classes_10_percent/test/pancakes'.\n",
      "There are 0 directories and 250 images in './data/101_food_classes_10_percent/test/prime_rib'.\n",
      "There are 0 directories and 250 images in './data/101_food_classes_10_percent/test/pizza'.\n",
      "There are 0 directories and 250 images in './data/101_food_classes_10_percent/test/nachos'.\n",
      "There are 0 directories and 250 images in './data/101_food_classes_10_percent/test/macaroni_and_cheese'.\n",
      "There are 0 directories and 250 images in './data/101_food_classes_10_percent/test/bread_pudding'.\n",
      "There are 0 directories and 250 images in './data/101_food_classes_10_percent/test/ramen'.\n",
      "There are 0 directories and 250 images in './data/101_food_classes_10_percent/test/croque_madame'.\n",
      "There are 0 directories and 250 images in './data/101_food_classes_10_percent/test/lasagna'.\n",
      "There are 0 directories and 250 images in './data/101_food_classes_10_percent/test/peking_duck'.\n",
      "There are 0 directories and 250 images in './data/101_food_classes_10_percent/test/deviled_eggs'.\n",
      "There are 0 directories and 250 images in './data/101_food_classes_10_percent/test/french_fries'.\n",
      "There are 0 directories and 250 images in './data/101_food_classes_10_percent/test/dumplings'.\n",
      "There are 0 directories and 250 images in './data/101_food_classes_10_percent/test/fried_rice'.\n",
      "There are 0 directories and 250 images in './data/101_food_classes_10_percent/test/french_onion_soup'.\n",
      "There are 0 directories and 250 images in './data/101_food_classes_10_percent/test/pho'.\n",
      "There are 0 directories and 250 images in './data/101_food_classes_10_percent/test/caprese_salad'.\n",
      "There are 0 directories and 250 images in './data/101_food_classes_10_percent/test/oysters'.\n",
      "There are 0 directories and 250 images in './data/101_food_classes_10_percent/test/baklava'.\n",
      "There are 0 directories and 250 images in './data/101_food_classes_10_percent/test/creme_brulee'.\n",
      "There are 0 directories and 250 images in './data/101_food_classes_10_percent/test/carrot_cake'.\n",
      "There are 0 directories and 250 images in './data/101_food_classes_10_percent/test/onion_rings'.\n",
      "There are 0 directories and 250 images in './data/101_food_classes_10_percent/test/caesar_salad'.\n",
      "There are 101 directories and 0 images in './data/101_food_classes_10_percent/train'.\n",
      "There are 0 directories and 75 images in './data/101_food_classes_10_percent/train/foie_gras'.\n",
      "There are 0 directories and 75 images in './data/101_food_classes_10_percent/train/club_sandwich'.\n",
      "There are 0 directories and 75 images in './data/101_food_classes_10_percent/train/cheese_plate'.\n",
      "There are 0 directories and 75 images in './data/101_food_classes_10_percent/train/cup_cakes'.\n",
      "There are 0 directories and 75 images in './data/101_food_classes_10_percent/train/garlic_bread'.\n",
      "There are 0 directories and 75 images in './data/101_food_classes_10_percent/train/gnocchi'.\n",
      "There are 0 directories and 75 images in './data/101_food_classes_10_percent/train/ice_cream'.\n",
      "There are 0 directories and 75 images in './data/101_food_classes_10_percent/train/samosa'.\n",
      "There are 0 directories and 75 images in './data/101_food_classes_10_percent/train/donuts'.\n",
      "There are 0 directories and 75 images in './data/101_food_classes_10_percent/train/tuna_tartare'.\n",
      "There are 0 directories and 75 images in './data/101_food_classes_10_percent/train/filet_mignon'.\n",
      "There are 0 directories and 75 images in './data/101_food_classes_10_percent/train/seaweed_salad'.\n",
      "There are 0 directories and 75 images in './data/101_food_classes_10_percent/train/french_toast'.\n",
      "There are 0 directories and 75 images in './data/101_food_classes_10_percent/train/chicken_curry'.\n",
      "There are 0 directories and 75 images in './data/101_food_classes_10_percent/train/shrimp_and_grits'.\n",
      "There are 0 directories and 75 images in './data/101_food_classes_10_percent/train/steak'.\n",
      "There are 0 directories and 75 images in './data/101_food_classes_10_percent/train/cheesecake'.\n",
      "There are 0 directories and 75 images in './data/101_food_classes_10_percent/train/red_velvet_cake'.\n",
      "There are 0 directories and 75 images in './data/101_food_classes_10_percent/train/waffles'.\n",
      "There are 0 directories and 75 images in './data/101_food_classes_10_percent/train/churros'.\n",
      "There are 0 directories and 75 images in './data/101_food_classes_10_percent/train/gyoza'.\n",
      "There are 0 directories and 75 images in './data/101_food_classes_10_percent/train/lobster_roll_sandwich'.\n",
      "There are 0 directories and 75 images in './data/101_food_classes_10_percent/train/huevos_rancheros'.\n",
      "There are 0 directories and 75 images in './data/101_food_classes_10_percent/train/breakfast_burrito'.\n",
      "There are 0 directories and 75 images in './data/101_food_classes_10_percent/train/grilled_cheese_sandwich'.\n",
      "There are 0 directories and 75 images in './data/101_food_classes_10_percent/train/spaghetti_bolognese'.\n",
      "There are 0 directories and 75 images in './data/101_food_classes_10_percent/train/falafel'.\n",
      "There are 0 directories and 75 images in './data/101_food_classes_10_percent/train/poutine'.\n",
      "There are 0 directories and 75 images in './data/101_food_classes_10_percent/train/greek_salad'.\n",
      "There are 0 directories and 75 images in './data/101_food_classes_10_percent/train/beef_tartare'.\n",
      "There are 0 directories and 75 images in './data/101_food_classes_10_percent/train/fried_calamari'.\n",
      "There are 0 directories and 75 images in './data/101_food_classes_10_percent/train/guacamole'.\n",
      "There are 0 directories and 75 images in './data/101_food_classes_10_percent/train/ravioli'.\n",
      "There are 0 directories and 75 images in './data/101_food_classes_10_percent/train/lobster_bisque'.\n",
      "There are 0 directories and 75 images in './data/101_food_classes_10_percent/train/beet_salad'.\n",
      "There are 0 directories and 75 images in './data/101_food_classes_10_percent/train/risotto'.\n",
      "There are 0 directories and 75 images in './data/101_food_classes_10_percent/train/crab_cakes'.\n",
      "There are 0 directories and 75 images in './data/101_food_classes_10_percent/train/strawberry_shortcake'.\n",
      "There are 0 directories and 75 images in './data/101_food_classes_10_percent/train/edamame'.\n",
      "There are 0 directories and 75 images in './data/101_food_classes_10_percent/train/ceviche'.\n",
      "There are 0 directories and 75 images in './data/101_food_classes_10_percent/train/hot_and_sour_soup'.\n",
      "There are 0 directories and 75 images in './data/101_food_classes_10_percent/train/spring_rolls'.\n",
      "There are 0 directories and 75 images in './data/101_food_classes_10_percent/train/sashimi'.\n",
      "There are 0 directories and 75 images in './data/101_food_classes_10_percent/train/paella'.\n",
      "There are 0 directories and 75 images in './data/101_food_classes_10_percent/train/clam_chowder'.\n",
      "There are 0 directories and 75 images in './data/101_food_classes_10_percent/train/miso_soup'.\n",
      "There are 0 directories and 75 images in './data/101_food_classes_10_percent/train/escargots'.\n",
      "There are 0 directories and 75 images in './data/101_food_classes_10_percent/train/hot_dog'.\n",
      "There are 0 directories and 75 images in './data/101_food_classes_10_percent/train/pulled_pork_sandwich'.\n",
      "There are 0 directories and 75 images in './data/101_food_classes_10_percent/train/bruschetta'.\n",
      "There are 0 directories and 75 images in './data/101_food_classes_10_percent/train/panna_cotta'.\n",
      "There are 0 directories and 75 images in './data/101_food_classes_10_percent/train/fish_and_chips'.\n",
      "There are 0 directories and 75 images in './data/101_food_classes_10_percent/train/pad_thai'.\n",
      "There are 0 directories and 75 images in './data/101_food_classes_10_percent/train/tiramisu'.\n",
      "There are 0 directories and 75 images in './data/101_food_classes_10_percent/train/takoyaki'.\n",
      "There are 0 directories and 75 images in './data/101_food_classes_10_percent/train/macarons'.\n",
      "There are 0 directories and 75 images in './data/101_food_classes_10_percent/train/apple_pie'.\n",
      "There are 0 directories and 75 images in './data/101_food_classes_10_percent/train/cannoli'.\n",
      "There are 0 directories and 75 images in './data/101_food_classes_10_percent/train/scallops'.\n",
      "There are 0 directories and 75 images in './data/101_food_classes_10_percent/train/frozen_yogurt'.\n",
      "There are 0 directories and 75 images in './data/101_food_classes_10_percent/train/chicken_quesadilla'.\n",
      "There are 0 directories and 75 images in './data/101_food_classes_10_percent/train/mussels'.\n",
      "There are 0 directories and 75 images in './data/101_food_classes_10_percent/train/beef_carpaccio'.\n",
      "There are 0 directories and 75 images in './data/101_food_classes_10_percent/train/eggs_benedict'.\n",
      "There are 0 directories and 75 images in './data/101_food_classes_10_percent/train/spaghetti_carbonara'.\n",
      "There are 0 directories and 75 images in './data/101_food_classes_10_percent/train/omelette'.\n",
      "There are 0 directories and 75 images in './data/101_food_classes_10_percent/train/sushi'.\n",
      "There are 0 directories and 75 images in './data/101_food_classes_10_percent/train/chocolate_mousse'.\n",
      "There are 0 directories and 75 images in './data/101_food_classes_10_percent/train/beignets'.\n",
      "There are 0 directories and 75 images in './data/101_food_classes_10_percent/train/bibimbap'.\n",
      "There are 0 directories and 75 images in './data/101_food_classes_10_percent/train/hummus'.\n",
      "There are 0 directories and 75 images in './data/101_food_classes_10_percent/train/pork_chop'.\n",
      "There are 0 directories and 75 images in './data/101_food_classes_10_percent/train/chicken_wings'.\n",
      "There are 0 directories and 75 images in './data/101_food_classes_10_percent/train/grilled_salmon'.\n",
      "There are 0 directories and 75 images in './data/101_food_classes_10_percent/train/chocolate_cake'.\n",
      "There are 0 directories and 75 images in './data/101_food_classes_10_percent/train/tacos'.\n",
      "There are 0 directories and 75 images in './data/101_food_classes_10_percent/train/hamburger'.\n",
      "There are 0 directories and 75 images in './data/101_food_classes_10_percent/train/baby_back_ribs'.\n",
      "There are 0 directories and 75 images in './data/101_food_classes_10_percent/train/pancakes'.\n",
      "There are 0 directories and 75 images in './data/101_food_classes_10_percent/train/prime_rib'.\n",
      "There are 0 directories and 75 images in './data/101_food_classes_10_percent/train/pizza'.\n",
      "There are 0 directories and 75 images in './data/101_food_classes_10_percent/train/nachos'.\n",
      "There are 0 directories and 75 images in './data/101_food_classes_10_percent/train/macaroni_and_cheese'.\n",
      "There are 0 directories and 75 images in './data/101_food_classes_10_percent/train/bread_pudding'.\n",
      "There are 0 directories and 75 images in './data/101_food_classes_10_percent/train/ramen'.\n",
      "There are 0 directories and 75 images in './data/101_food_classes_10_percent/train/croque_madame'.\n",
      "There are 0 directories and 75 images in './data/101_food_classes_10_percent/train/lasagna'.\n",
      "There are 0 directories and 75 images in './data/101_food_classes_10_percent/train/peking_duck'.\n",
      "There are 0 directories and 75 images in './data/101_food_classes_10_percent/train/deviled_eggs'.\n",
      "There are 0 directories and 75 images in './data/101_food_classes_10_percent/train/french_fries'.\n",
      "There are 0 directories and 75 images in './data/101_food_classes_10_percent/train/dumplings'.\n",
      "There are 0 directories and 75 images in './data/101_food_classes_10_percent/train/fried_rice'.\n",
      "There are 0 directories and 75 images in './data/101_food_classes_10_percent/train/french_onion_soup'.\n",
      "There are 0 directories and 75 images in './data/101_food_classes_10_percent/train/pho'.\n",
      "There are 0 directories and 75 images in './data/101_food_classes_10_percent/train/caprese_salad'.\n",
      "There are 0 directories and 75 images in './data/101_food_classes_10_percent/train/oysters'.\n",
      "There are 0 directories and 75 images in './data/101_food_classes_10_percent/train/baklava'.\n",
      "There are 0 directories and 75 images in './data/101_food_classes_10_percent/train/creme_brulee'.\n",
      "There are 0 directories and 75 images in './data/101_food_classes_10_percent/train/carrot_cake'.\n",
      "There are 0 directories and 75 images in './data/101_food_classes_10_percent/train/onion_rings'.\n",
      "There are 0 directories and 75 images in './data/101_food_classes_10_percent/train/caesar_salad'.\n"
     ]
    }
   ],
   "source": [
    "walk_through_dir(\"./data/101_food_classes_10_percent/\")"
   ]
  },
  {
   "cell_type": "code",
   "execution_count": 6,
   "metadata": {},
   "outputs": [
    {
     "name": "stdout",
     "output_type": "stream",
     "text": [
      "Found 7575 files belonging to 101 classes.\n"
     ]
    },
    {
     "name": "stderr",
     "output_type": "stream",
     "text": [
      "2023-02-19 19:37:43.532150: I tensorflow/core/platform/cpu_feature_guard.cc:193] This TensorFlow binary is optimized with oneAPI Deep Neural Network Library (oneDNN) to use the following CPU instructions in performance-critical operations:  AVX2 FMA\n",
      "To enable them in other operations, rebuild TensorFlow with the appropriate compiler flags.\n"
     ]
    },
    {
     "name": "stdout",
     "output_type": "stream",
     "text": [
      "Found 25250 files belonging to 101 classes.\n"
     ]
    }
   ],
   "source": [
    "IMG_SIZE = (224, 224)\n",
    "\n",
    "train_dir = \"./data/101_food_classes_10_percent/train/\"\n",
    "test_dir = \"./data/101_food_classes_10_percent/test/\"\n",
    "\n",
    "train_data_all_10_percent = tf.keras.preprocessing.image_dataset_from_directory(\n",
    "    train_dir, label_mode=\"categorical\", image_size=IMG_SIZE)\n",
    "\n",
    "test_data_all_10_percent = tf.keras.preprocessing.image_dataset_from_directory(\n",
    "    test_dir, label_mode=\"categorical\", image_size=IMG_SIZE,shuffle=False)\n"
   ]
  },
  {
   "cell_type": "code",
   "execution_count": 7,
   "metadata": {},
   "outputs": [],
   "source": [
    "checkpoint_path = \"101_classes_10_percent_data_model_checkpoint\"\n",
    "checkpoint_callback = tf.keras.callbacks.ModelCheckpoint(\n",
    "    checkpoint_path,\n",
    "    save_weights_only=True,\n",
    "    monitor=\"val_accuracy\",\n",
    "    save_best_only=True)\n"
   ]
  },
  {
   "cell_type": "code",
   "execution_count": 8,
   "metadata": {},
   "outputs": [],
   "source": [
    "data_augmentation = keras.Sequential([layers.RandomFlip(\"horizontal\"),\n",
    "                                     layers.RandomRotation(0.2),\n",
    "                                     layers.RandomHeight(0.2),\n",
    "                                     layers.RandomWidth(0.2),\n",
    "                                     layers.RandomZoom(0.2),\n",
    "                                     ],name=\"data_augmentation\")"
   ]
  },
  {
   "cell_type": "code",
   "execution_count": 9,
   "metadata": {},
   "outputs": [
    {
     "name": "stdout",
     "output_type": "stream",
     "text": [
      "WARNING:tensorflow:Using a while_loop for converting RngReadAndSkip cause there is no registered converter for this op.\n",
      "WARNING:tensorflow:Using a while_loop for converting Bitcast cause there is no registered converter for this op.\n",
      "WARNING:tensorflow:Using a while_loop for converting Bitcast cause there is no registered converter for this op.\n",
      "WARNING:tensorflow:Using a while_loop for converting StatelessRandomUniformV2 cause there is no registered converter for this op.\n",
      "WARNING:tensorflow:Using a while_loop for converting ImageProjectiveTransformV3 cause there is no registered converter for this op.\n",
      "WARNING:tensorflow:Using a while_loop for converting RngReadAndSkip cause there is no registered converter for this op.\n",
      "WARNING:tensorflow:Using a while_loop for converting Bitcast cause there is no registered converter for this op.\n",
      "WARNING:tensorflow:Using a while_loop for converting Bitcast cause there is no registered converter for this op.\n",
      "WARNING:tensorflow:Using a while_loop for converting StatelessRandomUniformV2 cause there is no registered converter for this op.\n",
      "WARNING:tensorflow:Using a while_loop for converting ImageProjectiveTransformV3 cause there is no registered converter for this op.\n",
      "WARNING:tensorflow:Using a while_loop for converting RngReadAndSkip cause there is no registered converter for this op.\n",
      "WARNING:tensorflow:Using a while_loop for converting Bitcast cause there is no registered converter for this op.\n",
      "WARNING:tensorflow:Using a while_loop for converting Bitcast cause there is no registered converter for this op.\n",
      "WARNING:tensorflow:Using a while_loop for converting StatelessRandomUniformV2 cause there is no registered converter for this op.\n",
      "WARNING:tensorflow:Using a while_loop for converting ImageProjectiveTransformV3 cause there is no registered converter for this op.\n",
      "WARNING:tensorflow:Using a while_loop for converting RngReadAndSkip cause there is no registered converter for this op.\n",
      "WARNING:tensorflow:Using a while_loop for converting Bitcast cause there is no registered converter for this op.\n",
      "WARNING:tensorflow:Using a while_loop for converting Bitcast cause there is no registered converter for this op.\n",
      "WARNING:tensorflow:Using a while_loop for converting StatelessRandomUniformV2 cause there is no registered converter for this op.\n",
      "WARNING:tensorflow:Using a while_loop for converting ImageProjectiveTransformV3 cause there is no registered converter for this op.\n"
     ]
    }
   ],
   "source": [
    "base_model = tf.keras.applications.EfficientNetB0(include_top=False)\n",
    "base_model.trainable = False\n",
    "\n",
    "inputs = layers.Input(shape=(224, 224, 3), name=\"input_layer\")\n",
    "x = data_augmentation(inputs)\n",
    "x = base_model(x, training=False)\n",
    "x = layers.GlobalAveragePooling2D(name=\"global_avg_pool\")(x)\n",
    "outputs = layers.Dense(len(train_data_all_10_percent.class_names),\n",
    "                       activation=\"softmax\",\n",
    "                       name=\"output_layer\")(x)\n",
    "model = tf.keras.Model(inputs,outputs)"
   ]
  },
  {
   "cell_type": "code",
   "execution_count": 10,
   "metadata": {},
   "outputs": [
    {
     "name": "stdout",
     "output_type": "stream",
     "text": [
      "Model: \"model\"\n",
      "_________________________________________________________________\n",
      " Layer (type)                Output Shape              Param #   \n",
      "=================================================================\n",
      " input_layer (InputLayer)    [(None, 224, 224, 3)]     0         \n",
      "                                                                 \n",
      " data_augmentation (Sequenti  (None, None, None, 3)    0         \n",
      " al)                                                             \n",
      "                                                                 \n",
      " efficientnetb0 (Functional)  (None, None, None, 1280)  4049571  \n",
      "                                                                 \n",
      " global_avg_pool (GlobalAver  (None, 1280)             0         \n",
      " agePooling2D)                                                   \n",
      "                                                                 \n",
      " output_layer (Dense)        (None, 101)               129381    \n",
      "                                                                 \n",
      "=================================================================\n",
      "Total params: 4,178,952\n",
      "Trainable params: 129,381\n",
      "Non-trainable params: 4,049,571\n",
      "_________________________________________________________________\n"
     ]
    }
   ],
   "source": [
    "model.summary()"
   ]
  },
  {
   "attachments": {},
   "cell_type": "markdown",
   "metadata": {},
   "source": [
    "## base model feature extraction"
   ]
  },
  {
   "cell_type": "code",
   "execution_count": 12,
   "metadata": {},
   "outputs": [
    {
     "name": "stdout",
     "output_type": "stream",
     "text": [
      "Epoch 1/5\n",
      "WARNING:tensorflow:Using a while_loop for converting RngReadAndSkip cause there is no registered converter for this op.\n",
      "WARNING:tensorflow:Using a while_loop for converting Bitcast cause there is no registered converter for this op.\n",
      "WARNING:tensorflow:Using a while_loop for converting Bitcast cause there is no registered converter for this op.\n",
      "WARNING:tensorflow:Using a while_loop for converting StatelessRandomUniformV2 cause there is no registered converter for this op.\n",
      "WARNING:tensorflow:Using a while_loop for converting ImageProjectiveTransformV3 cause there is no registered converter for this op.\n",
      "WARNING:tensorflow:Using a while_loop for converting RngReadAndSkip cause there is no registered converter for this op.\n",
      "WARNING:tensorflow:Using a while_loop for converting Bitcast cause there is no registered converter for this op.\n",
      "WARNING:tensorflow:Using a while_loop for converting Bitcast cause there is no registered converter for this op.\n",
      "WARNING:tensorflow:Using a while_loop for converting StatelessRandomUniformV2 cause there is no registered converter for this op.\n",
      "WARNING:tensorflow:Using a while_loop for converting ImageProjectiveTransformV3 cause there is no registered converter for this op.\n",
      "WARNING:tensorflow:Using a while_loop for converting RngReadAndSkip cause there is no registered converter for this op.\n",
      "WARNING:tensorflow:Using a while_loop for converting Bitcast cause there is no registered converter for this op.\n",
      "WARNING:tensorflow:Using a while_loop for converting Bitcast cause there is no registered converter for this op.\n",
      "WARNING:tensorflow:Using a while_loop for converting StatelessRandomUniformV2 cause there is no registered converter for this op.\n",
      "WARNING:tensorflow:Using a while_loop for converting ImageProjectiveTransformV3 cause there is no registered converter for this op.\n",
      "WARNING:tensorflow:Using a while_loop for converting RngReadAndSkip cause there is no registered converter for this op.\n",
      "WARNING:tensorflow:Using a while_loop for converting Bitcast cause there is no registered converter for this op.\n",
      "WARNING:tensorflow:Using a while_loop for converting Bitcast cause there is no registered converter for this op.\n",
      "WARNING:tensorflow:Using a while_loop for converting StatelessRandomUniformV2 cause there is no registered converter for this op.\n",
      "WARNING:tensorflow:Using a while_loop for converting ImageProjectiveTransformV3 cause there is no registered converter for this op.\n",
      "237/237 [==============================] - 556s 2s/step - loss: 1.8988 - accuracy: 0.5463 - val_loss: 1.8805 - val_accuracy: 0.5294\n",
      "Epoch 2/5\n",
      "237/237 [==============================] - 615s 3s/step - loss: 1.6179 - accuracy: 0.6045 - val_loss: 1.7664 - val_accuracy: 0.5445\n",
      "Epoch 3/5\n",
      "237/237 [==============================] - 605s 3s/step - loss: 1.4596 - accuracy: 0.6424 - val_loss: 1.7339 - val_accuracy: 0.5490\n",
      "Epoch 4/5\n",
      "237/237 [==============================] - 597s 3s/step - loss: 1.3407 - accuracy: 0.6664 - val_loss: 1.7032 - val_accuracy: 0.5577\n",
      "Epoch 5/5\n",
      "237/237 [==============================] - 543s 2s/step - loss: 1.2235 - accuracy: 0.6997 - val_loss: 1.6687 - val_accuracy: 0.5612\n"
     ]
    }
   ],
   "source": [
    "model.compile(loss=\"categorical_crossentropy\",\n",
    "              optimizer=tf.keras.optimizers.Adam(),\n",
    "              metrics=[\"accuracy\"])\n",
    "\n",
    "history_all_classes_10_percent = model.fit(\n",
    "    train_data_all_10_percent,\n",
    "    epochs=5,\n",
    "    validation_data=test_data_all_10_percent,\n",
    "    validation_steps=int(0.15 * len(test_data_all_10_percent)),\n",
    "    callbacks=[checkpoint_callback])\n"
   ]
  },
  {
   "cell_type": "code",
   "execution_count": 13,
   "metadata": {},
   "outputs": [
    {
     "data": {
      "image/png": "[encoded data removed]",
      "text/plain": [
       "<Figure size 640x480 with 1 Axes>"
      ]
     },
     "metadata": {},
     "output_type": "display_data"
    },
    {
     "data": {
      "image/png": "[encoded data removed]",
      "text/plain": [
       "<Figure size 640x480 with 1 Axes>"
      ]
     },
     "metadata": {},
     "output_type": "display_data"
    }
   ],
   "source": [
    "plot_loss_curves(history_all_classes_10_percent)"
   ]
  },
  {
   "attachments": {},
   "cell_type": "markdown",
   "metadata": {},
   "source": [
    "## fine tuning last 5 layers"
   ]
  },
  {
   "cell_type": "code",
   "execution_count": 14,
   "metadata": {},
   "outputs": [],
   "source": [
    "base_model.trainable = True\n",
    "\n",
    "for l in base_model.layers[:-5]:\n",
    "    l.trainable = False\n"
   ]
  },
  {
   "cell_type": "code",
   "execution_count": 15,
   "metadata": {},
   "outputs": [],
   "source": [
    "model.compile(loss=\"categorical_crossentropy\",\n",
    "              optimizer=tf.keras.optimizers.Adam(learning_rate=0.0001),\n",
    "              metrics=[\"accuracy\"])"
   ]
  },
  {
   "cell_type": "code",
   "execution_count": 20,
   "metadata": {},
   "outputs": [
    {
     "name": "stdout",
     "output_type": "stream",
     "text": [
      "Epoch 5/10\n",
      "237/237 [==============================] - 511s 2s/step - loss: 0.8904 - accuracy: 0.7551 - val_loss: 1.6371 - val_accuracy: 0.5731\n",
      "Epoch 6/10\n",
      "237/237 [==============================] - 511s 2s/step - loss: 0.8323 - accuracy: 0.7725 - val_loss: 1.6353 - val_accuracy: 0.5802\n",
      "Epoch 7/10\n",
      "237/237 [==============================] - 496s 2s/step - loss: 0.7653 - accuracy: 0.7972 - val_loss: 1.6865 - val_accuracy: 0.5628\n",
      "Epoch 8/10\n",
      "237/237 [==============================] - 505s 2s/step - loss: 0.7121 - accuracy: 0.8078 - val_loss: 1.7394 - val_accuracy: 0.5532\n",
      "Epoch 9/10\n",
      "237/237 [==============================] - 501s 2s/step - loss: 0.6578 - accuracy: 0.8224 - val_loss: 1.7047 - val_accuracy: 0.5683\n",
      "Epoch 10/10\n",
      "237/237 [==============================] - 448s 2s/step - loss: 0.6447 - accuracy: 0.8276 - val_loss: 1.7147 - val_accuracy: 0.5662\n"
     ]
    }
   ],
   "source": [
    "fine_tune_epochs = 10\n",
    "history_all_classes_10_percent_fine_tune = model.fit(\n",
    "    train_data_all_10_percent,\n",
    "    epochs=fine_tune_epochs,\n",
    "    validation_data=test_data_all_10_percent,\n",
    "    validation_steps=int(0.15 * len(test_data_all_10_percent)),\n",
    "    initial_epoch=history_all_classes_10_percent.epoch[-1],\n",
    "    callbacks=[checkpoint_callback])\n"
   ]
  },
  {
   "cell_type": "code",
   "execution_count": 21,
   "metadata": {},
   "outputs": [
    {
     "data": {
      "image/png": "[encoded data removed]",
      "text/plain": [
       "<Figure size 640x480 with 1 Axes>"
      ]
     },
     "metadata": {},
     "output_type": "display_data"
    },
    {
     "data": {
      "image/png": "[encoded data removed]",
      "text/plain": [
       "<Figure size 640x480 with 1 Axes>"
      ]
     },
     "metadata": {},
     "output_type": "display_data"
    }
   ],
   "source": [
    "plot_loss_curves(history_all_classes_10_percent_fine_tune)"
   ]
  },
  {
   "attachments": {},
   "cell_type": "markdown",
   "metadata": {},
   "source": [
    "## saving model"
   ]
  },
  {
   "cell_type": "code",
   "execution_count": 22,
   "metadata": {},
   "outputs": [
    {
     "name": "stdout",
     "output_type": "stream",
     "text": [
      "WARNING:tensorflow:Using a while_loop for converting RngReadAndSkip cause there is no registered converter for this op.\n",
      "WARNING:tensorflow:Using a while_loop for converting Bitcast cause there is no registered converter for this op.\n",
      "WARNING:tensorflow:Using a while_loop for converting Bitcast cause there is no registered converter for this op.\n",
      "WARNING:tensorflow:Using a while_loop for converting StatelessRandomUniformV2 cause there is no registered converter for this op.\n",
      "WARNING:tensorflow:Using a while_loop for converting ImageProjectiveTransformV3 cause there is no registered converter for this op.\n",
      "WARNING:tensorflow:Using a while_loop for converting RngReadAndSkip cause there is no registered converter for this op.\n",
      "WARNING:tensorflow:Using a while_loop for converting Bitcast cause there is no registered converter for this op.\n",
      "WARNING:tensorflow:Using a while_loop for converting Bitcast cause there is no registered converter for this op.\n",
      "WARNING:tensorflow:Using a while_loop for converting StatelessRandomUniformV2 cause there is no registered converter for this op.\n",
      "WARNING:tensorflow:Using a while_loop for converting ImageProjectiveTransformV3 cause there is no registered converter for this op.\n",
      "WARNING:tensorflow:Using a while_loop for converting RngReadAndSkip cause there is no registered converter for this op.\n",
      "WARNING:tensorflow:Using a while_loop for converting Bitcast cause there is no registered converter for this op.\n",
      "WARNING:tensorflow:Using a while_loop for converting Bitcast cause there is no registered converter for this op.\n",
      "WARNING:tensorflow:Using a while_loop for converting StatelessRandomUniformV2 cause there is no registered converter for this op.\n",
      "WARNING:tensorflow:Using a while_loop for converting ImageProjectiveTransformV3 cause there is no registered converter for this op.\n",
      "WARNING:tensorflow:Using a while_loop for converting RngReadAndSkip cause there is no registered converter for this op.\n",
      "WARNING:tensorflow:Using a while_loop for converting Bitcast cause there is no registered converter for this op.\n",
      "WARNING:tensorflow:Using a while_loop for converting Bitcast cause there is no registered converter for this op.\n",
      "WARNING:tensorflow:Using a while_loop for converting StatelessRandomUniformV2 cause there is no registered converter for this op.\n",
      "WARNING:tensorflow:Using a while_loop for converting ImageProjectiveTransformV3 cause there is no registered converter for this op.\n",
      "WARNING:tensorflow:Using a while_loop for converting RngReadAndSkip cause there is no registered converter for this op.\n",
      "WARNING:tensorflow:Using a while_loop for converting Bitcast cause there is no registered converter for this op.\n",
      "WARNING:tensorflow:Using a while_loop for converting Bitcast cause there is no registered converter for this op.\n",
      "WARNING:tensorflow:Using a while_loop for converting StatelessRandomUniformV2 cause there is no registered converter for this op.\n",
      "WARNING:tensorflow:Using a while_loop for converting ImageProjectiveTransformV3 cause there is no registered converter for this op.\n",
      "WARNING:tensorflow:Using a while_loop for converting RngReadAndSkip cause there is no registered converter for this op.\n",
      "WARNING:tensorflow:Using a while_loop for converting Bitcast cause there is no registered converter for this op.\n",
      "WARNING:tensorflow:Using a while_loop for converting Bitcast cause there is no registered converter for this op.\n",
      "WARNING:tensorflow:Using a while_loop for converting StatelessRandomUniformV2 cause there is no registered converter for this op.\n",
      "WARNING:tensorflow:Using a while_loop for converting ImageProjectiveTransformV3 cause there is no registered converter for this op.\n",
      "WARNING:tensorflow:Using a while_loop for converting RngReadAndSkip cause there is no registered converter for this op.\n",
      "WARNING:tensorflow:Using a while_loop for converting Bitcast cause there is no registered converter for this op.\n",
      "WARNING:tensorflow:Using a while_loop for converting Bitcast cause there is no registered converter for this op.\n",
      "WARNING:tensorflow:Using a while_loop for converting StatelessRandomUniformV2 cause there is no registered converter for this op.\n",
      "WARNING:tensorflow:Using a while_loop for converting ImageProjectiveTransformV3 cause there is no registered converter for this op.\n",
      "WARNING:tensorflow:Using a while_loop for converting RngReadAndSkip cause there is no registered converter for this op.\n",
      "WARNING:tensorflow:Using a while_loop for converting Bitcast cause there is no registered converter for this op.\n",
      "WARNING:tensorflow:Using a while_loop for converting Bitcast cause there is no registered converter for this op.\n",
      "WARNING:tensorflow:Using a while_loop for converting StatelessRandomUniformV2 cause there is no registered converter for this op.\n",
      "WARNING:tensorflow:Using a while_loop for converting ImageProjectiveTransformV3 cause there is no registered converter for this op.\n",
      "WARNING:tensorflow:Using a while_loop for converting RngReadAndSkip cause there is no registered converter for this op.\n",
      "WARNING:tensorflow:Using a while_loop for converting Bitcast cause there is no registered converter for this op.\n",
      "WARNING:tensorflow:Using a while_loop for converting Bitcast cause there is no registered converter for this op.\n",
      "WARNING:tensorflow:Using a while_loop for converting StatelessRandomUniformV2 cause there is no registered converter for this op.\n",
      "WARNING:tensorflow:Using a while_loop for converting ImageProjectiveTransformV3 cause there is no registered converter for this op.\n",
      "WARNING:tensorflow:Using a while_loop for converting RngReadAndSkip cause there is no registered converter for this op.\n",
      "WARNING:tensorflow:Using a while_loop for converting Bitcast cause there is no registered converter for this op.\n",
      "WARNING:tensorflow:Using a while_loop for converting Bitcast cause there is no registered converter for this op.\n",
      "WARNING:tensorflow:Using a while_loop for converting StatelessRandomUniformV2 cause there is no registered converter for this op.\n",
      "WARNING:tensorflow:Using a while_loop for converting ImageProjectiveTransformV3 cause there is no registered converter for this op.\n"
     ]
    },
    {
     "name": "stderr",
     "output_type": "stream",
     "text": [
      "WARNING:absl:Found untraced functions such as _update_step_xla, _jit_compiled_convolution_op, _jit_compiled_convolution_op, _jit_compiled_convolution_op, _jit_compiled_convolution_op while saving (showing 5 of 82). These functions will not be directly callable after loading.\n"
     ]
    },
    {
     "name": "stdout",
     "output_type": "stream",
     "text": [
      "INFO:tensorflow:Assets written to: ./Saves/101_food_classes/assets\n"
     ]
    },
    {
     "name": "stderr",
     "output_type": "stream",
     "text": [
      "INFO:tensorflow:Assets written to: ./Saves/101_food_classes/assets\n"
     ]
    },
    {
     "ename": "TypeError",
     "evalue": "Unable to serialize [2.0896919 2.1128857 2.1081853] to JSON. Unrecognized type <class 'tensorflow.python.framework.ops.EagerTensor'>.",
     "output_type": "error",
     "traceback": [
      "\u001b[0;31m---------------------------------------------------------------------------\u001b[0m",
      "\u001b[0;31mTypeError\u001b[0m                                 Traceback (most recent call last)",
      "Cell \u001b[0;32mIn[22], line 1\u001b[0m\n\u001b[0;32m----> 1\u001b[0m model\u001b[39m.\u001b[39;49msave(\u001b[39m\"\u001b[39;49m\u001b[39m./Saves/101_food_classes\u001b[39;49m\u001b[39m\"\u001b[39;49m)\n",
      "File \u001b[0;32m~/Library/Python/3.9/lib/python/site-packages/keras/utils/traceback_utils.py:70\u001b[0m, in \u001b[0;36mfilter_traceback.<locals>.error_handler\u001b[0;34m(*args, **kwargs)\u001b[0m\n\u001b[1;32m     67\u001b[0m     filtered_tb \u001b[39m=\u001b[39m _process_traceback_frames(e\u001b[39m.\u001b[39m__traceback__)\n\u001b[1;32m     68\u001b[0m     \u001b[39m# To get the full stack trace, call:\u001b[39;00m\n\u001b[1;32m     69\u001b[0m     \u001b[39m# `tf.debugging.disable_traceback_filtering()`\u001b[39;00m\n\u001b[0;32m---> 70\u001b[0m     \u001b[39mraise\u001b[39;00m e\u001b[39m.\u001b[39mwith_traceback(filtered_tb) \u001b[39mfrom\u001b[39;00m \u001b[39mNone\u001b[39m\n\u001b[1;32m     71\u001b[0m \u001b[39mfinally\u001b[39;00m:\n\u001b[1;32m     72\u001b[0m     \u001b[39mdel\u001b[39;00m filtered_tb\n",
      "File \u001b[0;32m/Library/Developer/CommandLineTools/Library/Frameworks/Python3.framework/Versions/3.9/lib/python3.9/json/encoder.py:199\u001b[0m, in \u001b[0;36mJSONEncoder.encode\u001b[0;34m(self, o)\u001b[0m\n\u001b[1;32m    195\u001b[0m         \u001b[39mreturn\u001b[39;00m encode_basestring(o)\n\u001b[1;32m    196\u001b[0m \u001b[39m# This doesn't pass the iterator directly to ''.join() because the\u001b[39;00m\n\u001b[1;32m    197\u001b[0m \u001b[39m# exceptions aren't as detailed.  The list call should be roughly\u001b[39;00m\n\u001b[1;32m    198\u001b[0m \u001b[39m# equivalent to the PySequence_Fast that ''.join() would do.\u001b[39;00m\n\u001b[0;32m--> 199\u001b[0m chunks \u001b[39m=\u001b[39m \u001b[39mself\u001b[39;49m\u001b[39m.\u001b[39;49miterencode(o, _one_shot\u001b[39m=\u001b[39;49m\u001b[39mTrue\u001b[39;49;00m)\n\u001b[1;32m    200\u001b[0m \u001b[39mif\u001b[39;00m \u001b[39mnot\u001b[39;00m \u001b[39misinstance\u001b[39m(chunks, (\u001b[39mlist\u001b[39m, \u001b[39mtuple\u001b[39m)):\n\u001b[1;32m    201\u001b[0m     chunks \u001b[39m=\u001b[39m \u001b[39mlist\u001b[39m(chunks)\n",
      "File \u001b[0;32m/Library/Developer/CommandLineTools/Library/Frameworks/Python3.framework/Versions/3.9/lib/python3.9/json/encoder.py:257\u001b[0m, in \u001b[0;36mJSONEncoder.iterencode\u001b[0;34m(self, o, _one_shot)\u001b[0m\n\u001b[1;32m    252\u001b[0m \u001b[39melse\u001b[39;00m:\n\u001b[1;32m    253\u001b[0m     _iterencode \u001b[39m=\u001b[39m _make_iterencode(\n\u001b[1;32m    254\u001b[0m         markers, \u001b[39mself\u001b[39m\u001b[39m.\u001b[39mdefault, _encoder, \u001b[39mself\u001b[39m\u001b[39m.\u001b[39mindent, floatstr,\n\u001b[1;32m    255\u001b[0m         \u001b[39mself\u001b[39m\u001b[39m.\u001b[39mkey_separator, \u001b[39mself\u001b[39m\u001b[39m.\u001b[39mitem_separator, \u001b[39mself\u001b[39m\u001b[39m.\u001b[39msort_keys,\n\u001b[1;32m    256\u001b[0m         \u001b[39mself\u001b[39m\u001b[39m.\u001b[39mskipkeys, _one_shot)\n\u001b[0;32m--> 257\u001b[0m \u001b[39mreturn\u001b[39;00m _iterencode(o, \u001b[39m0\u001b[39;49m)\n",
      "\u001b[0;31mTypeError\u001b[0m: Unable to serialize [2.0896919 2.1128857 2.1081853] to JSON. Unrecognized type <class 'tensorflow.python.framework.ops.EagerTensor'>."
     ]
    }
   ],
   "source": [
    "model.save(\"./Saves/101_food_classes\")"
   ]
  },
  {
   "attachments": {},
   "cell_type": "markdown",
   "metadata": {},
   "source": [
    "## making predictions"
   ]
  },
  {
   "cell_type": "code",
   "execution_count": 23,
   "metadata": {},
   "outputs": [
    {
     "name": "stdout",
     "output_type": "stream",
     "text": [
      "790/790 [==============================] - 1118s 1s/step\n"
     ]
    },
    {
     "data": {
      "text/plain": [
       "25250"
      ]
     },
     "execution_count": 23,
     "metadata": {},
     "output_type": "execute_result"
    }
   ],
   "source": [
    "preds_probs = model.predict(test_data_all_10_percent,verbose=1)\n",
    "len(preds_probs)"
   ]
  },
  {
   "cell_type": "code",
   "execution_count": 24,
   "metadata": {},
   "outputs": [
    {
     "data": {
      "text/plain": [
       "(25250, 101)"
      ]
     },
     "execution_count": 24,
     "metadata": {},
     "output_type": "execute_result"
    }
   ],
   "source": [
    "preds_probs.shape"
   ]
  },
  {
   "cell_type": "code",
   "execution_count": 26,
   "metadata": {},
   "outputs": [
    {
     "name": "stdout",
     "output_type": "stream",
     "text": [
      "tf.Tensor(\n",
      "[  172   375   672   905  1113  1482  1562  1963  2192  2359 11642  2797\n",
      "  3172  3368  3582  3793  4188  4306  4528  4870  5222  5300  5713  5778\n",
      "  6196  6302  6683  6833  7192  7409  7645  7884  8021  8256  8668  8761\n",
      "  9205  9318  9659  9762 10056 10401 10502 10841 11054 11292 11531 11907\n",
      " 12136 12493 12517 12967 13028 13330 13649 13802 14109 14473 14746 14830\n",
      " 15026 15398 15690 15907 16134 16329 16625 16758 17063 17495 17514 17930\n",
      " 18235 18276 18702 18877 19050  9761 19549 19966 20017 20356  3255 20764\n",
      " 21211 21275 21647 21765 22063 22442 22720 22796 23122 19323 23588 23828\n",
      " 24103 24293 24723 24961 25095], shape=(101,), dtype=int64)\n"
     ]
    }
   ],
   "source": [
    "p = tf.argmax(preds_probs)\n",
    "print(p)"
   ]
  },
  {
   "cell_type": "code",
   "execution_count": 27,
   "metadata": {},
   "outputs": [
    {
     "data": {
      "text/plain": [
       "array([ 0,  0,  0, 38,  8, 78, 29,  0,  9,  0])"
      ]
     },
     "execution_count": 27,
     "metadata": {},
     "output_type": "execute_result"
    }
   ],
   "source": [
    "pred_classes = preds_probs.argmax(axis=1)\n",
    "pred_classes[:10]"
   ]
  },
  {
   "cell_type": "code",
   "execution_count": 28,
   "metadata": {},
   "outputs": [
    {
     "data": {
      "text/plain": [
       "[0, 0, 0, 0, 0, 0, 0, 0, 0, 0]"
      ]
     },
     "execution_count": 28,
     "metadata": {},
     "output_type": "execute_result"
    }
   ],
   "source": [
    "y_labels = []\n",
    "for images,labels in test_data_all_10_percent.unbatch():\n",
    "    y_labels.append(labels.numpy().argmax())\n",
    "y_labels[:10]"
   ]
  },
  {
   "attachments": {},
   "cell_type": "markdown",
   "metadata": {},
   "source": [
    "## making confusion matrix"
   ]
  },
  {
   "cell_type": "code",
   "execution_count": null,
   "metadata": {},
   "outputs": [],
   "source": [
    "# tbh dont worry about this... hes buildign a confusion matrix of 101 classes. mans crazy :D\n",
    "\n",
    "# class_names = test_data_all_10_percent.class_names\n",
    "# make_confusion_matrix(y_true=y_labels,y_pred=pred_classes,classes=class_names,figsize=(100,100),text_size=20,)"
   ]
  },
  {
   "attachments": {},
   "cell_type": "markdown",
   "metadata": {},
   "source": [
    "## classification report"
   ]
  },
  {
   "cell_type": "code",
   "execution_count": 29,
   "metadata": {},
   "outputs": [
    {
     "name": "stdout",
     "output_type": "stream",
     "text": [
      "              precision    recall  f1-score   support\n",
      "\n",
      "           0       0.30      0.28      0.29       250\n",
      "           1       0.56      0.74      0.64       250\n",
      "           2       0.65      0.61      0.63       250\n",
      "           3       0.83      0.54      0.65       250\n",
      "           4       0.57      0.32      0.41       250\n",
      "           5       0.50      0.42      0.46       250\n",
      "           6       0.73      0.81      0.77       250\n",
      "           7       0.79      0.82      0.81       250\n",
      "           8       0.29      0.56      0.39       250\n",
      "           9       0.36      0.75      0.48       250\n",
      "          10       0.54      0.46      0.50       250\n",
      "          11       0.86      0.54      0.66       250\n",
      "          12       0.67      0.60      0.63       250\n",
      "          13       0.66      0.50      0.56       250\n",
      "          14       0.59      0.57      0.58       250\n",
      "          15       0.40      0.38      0.39       250\n",
      "          16       0.68      0.52      0.59       250\n",
      "          17       0.42      0.38      0.40       250\n",
      "          18       0.51      0.53      0.52       250\n",
      "          19       0.64      0.63      0.63       250\n",
      "          20       0.66      0.75      0.70       250\n",
      "          21       0.55      0.54      0.54       250\n",
      "          22       0.37      0.44      0.40       250\n",
      "          23       0.76      0.72      0.74       250\n",
      "          24       0.70      0.73      0.72       250\n",
      "          25       0.74      0.68      0.71       250\n",
      "          26       0.43      0.43      0.43       250\n",
      "          27       0.73      0.77      0.75       250\n",
      "          28       0.80      0.66      0.72       250\n",
      "          29       0.78      0.74      0.76       250\n",
      "          30       0.90      0.61      0.73       250\n",
      "          31       0.74      0.78      0.76       250\n",
      "          32       0.80      0.85      0.82       250\n",
      "          33       0.97      0.98      0.97       250\n",
      "          34       0.53      0.82      0.64       250\n",
      "          35       0.75      0.68      0.71       250\n",
      "          36       0.68      0.32      0.43       250\n",
      "          37       0.31      0.56      0.40       250\n",
      "          38       0.61      0.76      0.67       250\n",
      "          39       0.49      0.25      0.33       250\n",
      "          40       0.72      0.76      0.74       250\n",
      "          41       0.72      0.67      0.69       250\n",
      "          42       0.49      0.58      0.53       250\n",
      "          43       0.72      0.58      0.64       250\n",
      "          44       0.79      0.44      0.57       250\n",
      "          45       0.80      0.82      0.81       250\n",
      "          46       0.68      0.55      0.61       250\n",
      "          47       0.40      0.53      0.46       250\n",
      "          48       0.55      0.76      0.64       250\n",
      "          49       0.46      0.50      0.48       250\n",
      "          50       0.58      0.34      0.43       250\n",
      "          51       0.76      0.89      0.82       250\n",
      "          52       0.53      0.69      0.60       250\n",
      "          53       0.62      0.69      0.65       250\n",
      "          54       0.86      0.82      0.84       250\n",
      "          55       0.78      0.78      0.78       250\n",
      "          56       0.38      0.44      0.41       250\n",
      "          57       0.52      0.47      0.49       250\n",
      "          58       0.59      0.62      0.60       250\n",
      "          59       0.59      0.47      0.52       250\n",
      "          60       0.70      0.68      0.69       250\n",
      "          61       0.62      0.70      0.66       250\n",
      "          62       0.50      0.62      0.55       250\n",
      "          63       0.94      0.89      0.92       250\n",
      "          64       0.71      0.87      0.78       250\n",
      "          65       0.86      0.80      0.83       250\n",
      "          66       0.70      0.36      0.48       250\n",
      "          67       0.49      0.46      0.48       250\n",
      "          68       0.69      0.89      0.77       250\n",
      "          69       0.81      0.87      0.84       250\n",
      "          70       0.76      0.82      0.79       250\n",
      "          71       0.92      0.38      0.54       250\n",
      "          72       0.69      0.62      0.65       250\n",
      "          73       0.47      0.48      0.47       250\n",
      "          74       0.90      0.45      0.60       250\n",
      "          75       0.83      0.89      0.86       250\n",
      "          76       0.71      0.89      0.79       250\n",
      "          77       0.48      0.23      0.31       250\n",
      "          78       0.66      0.77      0.71       250\n",
      "          79       0.54      0.72      0.62       250\n",
      "          80       0.54      0.66      0.60       250\n",
      "          81       0.59      0.76      0.66       250\n",
      "          82       0.33      0.33      0.33       250\n",
      "          83       0.75      0.70      0.73       250\n",
      "          84       0.48      0.34      0.40       250\n",
      "          85       0.55      0.65      0.59       250\n",
      "          86       0.79      0.85      0.82       250\n",
      "          87       0.44      0.37      0.40       250\n",
      "          88       0.83      0.77      0.80       250\n",
      "          89       0.44      0.49      0.46       250\n",
      "          90       0.86      0.64      0.74       250\n",
      "          91       0.79      0.88      0.84       250\n",
      "          92       0.81      0.53      0.64       250\n",
      "          93       0.36      0.24      0.29       250\n",
      "          94       0.67      0.54      0.60       250\n",
      "          95       0.72      0.63      0.67       250\n",
      "          96       0.62      0.40      0.49       250\n",
      "          97       0.70      0.60      0.65       250\n",
      "          98       0.43      0.60      0.50       250\n",
      "          99       0.29      0.51      0.37       250\n",
      "         100       0.64      0.69      0.66       250\n",
      "\n",
      "    accuracy                           0.61     25250\n",
      "   macro avg       0.63      0.61      0.61     25250\n",
      "weighted avg       0.63      0.61      0.61     25250\n",
      "\n"
     ]
    }
   ],
   "source": [
    "print(classification_report(y_true=y_labels,y_pred=pred_classes))"
   ]
  },
  {
   "attachments": {},
   "cell_type": "markdown",
   "metadata": {},
   "source": [
    "## finding the most wrong data"
   ]
  },
  {
   "cell_type": "code",
   "execution_count": 30,
   "metadata": {},
   "outputs": [
    {
     "data": {
      "text/plain": [
       "[b'./data/101_food_classes_10_percent/test/apple_pie/1011328.jpg',\n",
       " b'./data/101_food_classes_10_percent/test/apple_pie/101251.jpg',\n",
       " b'./data/101_food_classes_10_percent/test/apple_pie/1034399.jpg',\n",
       " b'./data/101_food_classes_10_percent/test/apple_pie/103801.jpg',\n",
       " b'./data/101_food_classes_10_percent/test/apple_pie/1038694.jpg',\n",
       " b'./data/101_food_classes_10_percent/test/apple_pie/1047447.jpg',\n",
       " b'./data/101_food_classes_10_percent/test/apple_pie/1068632.jpg',\n",
       " b'./data/101_food_classes_10_percent/test/apple_pie/110043.jpg',\n",
       " b'./data/101_food_classes_10_percent/test/apple_pie/1106961.jpg',\n",
       " b'./data/101_food_classes_10_percent/test/apple_pie/1113017.jpg']"
      ]
     },
     "execution_count": 30,
     "metadata": {},
     "output_type": "execute_result"
    }
   ],
   "source": [
    "filepaths = []\n",
    "for fp in test_data_all_10_percent.list_files(\"./data/101_food_classes_10_percent/test/*/*.jpg\",shuffle=False):\n",
    "    filepaths.append(fp.numpy())\n",
    "\n",
    "filepaths[:10]"
   ]
  }
 ],
 "metadata": {
  "kernelspec": {
   "display_name": "Python 3",
   "language": "python",
   "name": "python3"
  },
  "language_info": {
   "codemirror_mode": {
    "name": "ipython",
    "version": 3
   },
   "file_extension": ".py",
   "mimetype": "text/x-python",
   "name": "python",
   "nbconvert_exporter": "python",
   "pygments_lexer": "ipython3",
   "version": "3.9.6"
  },
  "orig_nbformat": 4,
  "vscode": {
   "interpreter": {
    "hash": "31f2aee4e71d21fbe5cf8b01ff0e069b9275f58929596ceb00d14d90e3e16cd6"
   }
  }
 },
 "nbformat": 4,
 "nbformat_minor": 2
}
